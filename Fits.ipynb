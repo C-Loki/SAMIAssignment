{
 "cells": [
  {
   "cell_type": "code",
   "execution_count": 56,
   "id": "b174540c",
   "metadata": {},
   "outputs": [
    {
     "data": {
      "text/plain": [
       "'599689'"
      ]
     },
     "execution_count": 56,
     "metadata": {},
     "output_type": "execute_result"
    }
   ],
   "source": [
    "import os\n",
    "import glob\n",
    "\n",
    "# Directory path\n",
    "directory_path = \"fitsfiles/extracted/SVM_M2_Default/\"\n",
    "\n",
    "# Initialize an empty list to store galaxy IDs\n",
    "galaxy_ids = []\n",
    "\n",
    "# List all directories in the given path\n",
    "directories = os.listdir(directory_path)\n",
    "directories\n",
    "# Filter out directories that have .fits files\n",
    "for folder in directories:\n",
    "    folder_path = os.path.join(directory_path, folder)\n",
    "    if os.path.isdir(folder_path):\n",
    "        fits_files = os.listdir(folder_path)\n",
    "        if any(file.endswith('.fits') for file in fits_files):\n",
    "            galaxy_ids.append(folder)            "
   ]
  },
  {
   "cell_type": "code",
   "execution_count": 147,
   "id": "cc5eba81",
   "metadata": {
    "scrolled": true
   },
   "outputs": [
    {
     "name": "stderr",
     "output_type": "stream",
     "text": [
      "100%|█████████████████████████████████████████| 288/288 [00:29<00:00,  9.64it/s]\n"
     ]
    }
   ],
   "source": [
    "import matplotlib.pyplot as plt\n",
    "from astropy.io import fits\n",
    "import glob\n",
    "from tqdm import tqdm\n",
    "\n",
    "df = pd.read_csv('Query.csv')\n",
    "\n",
    "for galaxy_id in tqdm(galaxy_ids):\n",
    "    directory_path = f\"fitsfiles/extracted/SVM_M2_Default/{galaxy_id}/\"\n",
    "\n",
    "    # Use glob to find all *.fits files in the directory\n",
    "    fits_files = glob.glob(directory_path + \"*.fits\")\n",
    "    fits_file_path = fits_files[0]\n",
    "    \n",
    "    with fits.open(fits_file_path) as hdul:\n",
    "        # Access the data in the FITS file (assuming it's a 2D image)\n",
    "        data = hdul[0].data\n",
    "        vals = data[~np.isnan(data)]\n",
    "        lower = np.percentile(vals, 5)\n",
    "        upper = np.percentile(vals, 95)\n",
    "        max_speed = max(np.abs(lower), np.abs(upper))\n",
    "        \n",
    "        vsigma_re = df.loc[df['CATID'] == int(galaxy_id), 'VSIGMA_RE'].values[0]\n",
    "\n",
    "        # Create a plot with 0 as white\n",
    "        plt.figure(figsize=(8, 8))\n",
    "        plt.imshow(data, cmap='RdBu', origin='lower', vmin=-max_speed, vmax=max_speed)  # Adjust the colormap as needed\n",
    "        plt.colorbar()\n",
    "        plt.title(f\"Stellar Velocity Map. CAT ID: {galaxy_id}\")\n",
    "        plt.xlabel(\"X\")\n",
    "        plt.ylabel(\"Y\")\n",
    "    \n",
    "        # Define the path where you want to save the image\n",
    "        save_path = f\"fitsfiles/extracted/SVM_M2_Default/images/{galaxy_id}_{vsigma_re:.2g}.png\"\n",
    "\n",
    "        # Save the image as PNG\n",
    "        plt.savefig(save_path)\n",
    "        plt.close()"
   ]
  },
  {
   "cell_type": "code",
   "execution_count": 140,
   "id": "1729c871",
   "metadata": {},
   "outputs": [
    {
     "name": "stdout",
     "output_type": "stream",
     "text": [
      "0.69\n"
     ]
    }
   ],
   "source": [
    "import pandas as pd\n",
    "\n",
    "df = pd.read_csv('Query.csv')\n",
    "vsigma_re = df.loc[df['CATID'] == 278350, 'VSIGMA_RE'].values[0]\n",
    "\n",
    "# Print the result\n",
    "print(f\"{result:.2g}\")"
   ]
  },
  {
   "cell_type": "code",
   "execution_count": 135,
   "id": "cfa77909",
   "metadata": {},
   "outputs": [
    {
     "name": "stderr",
     "output_type": "stream",
     "text": [
      "  0%|                                                   | 0/288 [00:00<?, ?it/s]"
     ]
    },
    {
     "name": "stdout",
     "output_type": "stream",
     "text": [
      "278350\n"
     ]
    },
    {
     "name": "stderr",
     "output_type": "stream",
     "text": [
      "\n"
     ]
    },
    {
     "ename": "IndexError",
     "evalue": "index 0 is out of bounds for axis 0 with size 0",
     "output_type": "error",
     "traceback": [
      "\u001b[0;31m---------------------------------------------------------------------------\u001b[0m",
      "\u001b[0;31mIndexError\u001b[0m                                Traceback (most recent call last)",
      "\u001b[0;32m/var/folders/q7/8s9pjyts0d5gm028lxlv95980000gn/T/ipykernel_58738/4264580693.py\u001b[0m in \u001b[0;36m<module>\u001b[0;34m\u001b[0m\n\u001b[1;32m     27\u001b[0m \u001b[0;34m\u001b[0m\u001b[0m\n\u001b[1;32m     28\u001b[0m         \u001b[0mprint\u001b[0m\u001b[0;34m(\u001b[0m\u001b[0mgalaxy_id\u001b[0m\u001b[0;34m)\u001b[0m\u001b[0;34m\u001b[0m\u001b[0;34m\u001b[0m\u001b[0m\n\u001b[0;32m---> 29\u001b[0;31m         \u001b[0mvsigma_re\u001b[0m \u001b[0;34m=\u001b[0m \u001b[0mdf\u001b[0m\u001b[0;34m.\u001b[0m\u001b[0mloc\u001b[0m\u001b[0;34m[\u001b[0m\u001b[0mdf\u001b[0m\u001b[0;34m[\u001b[0m\u001b[0;34m'CATID'\u001b[0m\u001b[0;34m]\u001b[0m \u001b[0;34m==\u001b[0m \u001b[0mgalaxy_id\u001b[0m\u001b[0;34m,\u001b[0m \u001b[0;34m'VSIGMA_RE'\u001b[0m\u001b[0;34m]\u001b[0m\u001b[0;34m.\u001b[0m\u001b[0mvalues\u001b[0m\u001b[0;34m[\u001b[0m\u001b[0;36m0\u001b[0m\u001b[0;34m]\u001b[0m\u001b[0;34m\u001b[0m\u001b[0;34m\u001b[0m\u001b[0m\n\u001b[0m\u001b[1;32m     30\u001b[0m \u001b[0;34m\u001b[0m\u001b[0m\n\u001b[1;32m     31\u001b[0m         \u001b[0;31m# Create a plot with normalized values\u001b[0m\u001b[0;34m\u001b[0m\u001b[0;34m\u001b[0m\u001b[0m\n",
      "\u001b[0;31mIndexError\u001b[0m: index 0 is out of bounds for axis 0 with size 0"
     ]
    }
   ],
   "source": [
    "import matplotlib.pyplot as plt\n",
    "from astropy.io import fits\n",
    "import glob\n",
    "from tqdm import tqdm\n",
    "import numpy as np\n",
    "\n",
    "# Define the range for normalization\n",
    "normalized_min = 0\n",
    "normalized_max = 1\n",
    "\n",
    "for galaxy_id in tqdm(galaxy_ids):\n",
    "    directory_path = f\"fitsfiles/extracted/SVM_M2_Default/{galaxy_id}/\"\n",
    "\n",
    "    # Use glob to find all *.fits files in the directory\n",
    "    fits_files = glob.glob(directory_path + \"*.fits\")\n",
    "    fits_file_path = fits_files[0]\n",
    "    \n",
    "    with fits.open(fits_file_path) as hdul:\n",
    "        # Access the data in the FITS file (assuming it's a 2D image)\n",
    "        data = hdul[0].data\n",
    "\n",
    "        # Normalize the data\n",
    "        vals = data[~np.isnan(data)]\n",
    "        min_val = np.min(vals)\n",
    "        max_val = np.max(vals)\n",
    "        normalized_data = (data - min_val) / (max_val - min_val)  # Normalize to [0, 1]\n",
    "        \n",
    "        \n",
    "\n",
    "        # Create a plot with normalized values\n",
    "        plt.figure(figsize=(8, 8))\n",
    "        plt.imshow(normalized_data, cmap='RdBu', origin='lower', vmin=normalized_min, vmax=normalized_max)  # Adjust the colormap as needed\n",
    "        plt.colorbar()\n",
    "        plt.title(f\"Stellar Velocity Map. CAT ID: {galaxy_id}\")\n",
    "        plt.xlabel(\"X\")\n",
    "        plt.ylabel(\"Y\")\n",
    "    \n",
    "        # Define the path where you want to save the image\n",
    "        save_path = f\"fitsfiles/extracted/SVM_M2_Default/images/{galaxy_id}.png\"\n",
    "\n",
    "        # Save the image as PNG\n",
    "        plt.savefig(save_path)\n",
    "        plt.close()\n"
   ]
  },
  {
   "cell_type": "code",
   "execution_count": null,
   "id": "f4c34b7e",
   "metadata": {},
   "outputs": [],
   "source": []
  },
  {
   "cell_type": "code",
   "execution_count": null,
   "id": "61f13e0a",
   "metadata": {},
   "outputs": [],
   "source": []
  },
  {
   "cell_type": "code",
   "execution_count": null,
   "id": "0f253edc",
   "metadata": {},
   "outputs": [],
   "source": []
  },
  {
   "cell_type": "code",
   "execution_count": null,
   "id": "a117948d",
   "metadata": {},
   "outputs": [],
   "source": []
  },
  {
   "cell_type": "code",
   "execution_count": null,
   "id": "c0b8b045",
   "metadata": {},
   "outputs": [],
   "source": []
  },
  {
   "cell_type": "markdown",
   "id": "79b16e01",
   "metadata": {},
   "source": [
    "#### Extracting TAR GZ FILE.\n",
    "\n",
    "-- comes up with an error when extracting via jupyter. \\\n",
    "-- comes up with \"tar: Error opening archive: Failed to open 'abc.gz'\" when using `tar -xvzf abc.gz` via terminal."
   ]
  },
  {
   "cell_type": "code",
   "execution_count": 28,
   "id": "70f83fb7",
   "metadata": {},
   "outputs": [],
   "source": [
    "import tarfile\n",
    "\n",
    "def extract_tar_gz(file_path, destination_path):\n",
    "    with tarfile.open(file_path, \"r:gz\") as tar:\n",
    "        tar.extractall(destination_path)\n",
    "\n",
    "# Usage example\n",
    "file_path = \"fitsfiles/SVM_M2_Default.tar.gz\"\n",
    "destination_path = \"fitsfiles/extracted\"\n",
    "\n",
    "extract_tar_gz(file_path, destination_path)"
   ]
  },
  {
   "cell_type": "code",
   "execution_count": 9,
   "id": "0690cd40",
   "metadata": {},
   "outputs": [],
   "source": [
    "import os\n",
    "import tarfile\n",
    "import glob\n",
    "\n",
    "def extract_all_tar_gz_files(path):\n",
    "    for zipped_file in glob.glob(os.path.join(path, \"**/*.tar.gz\"), recursive=True):\n",
    "        tar = tarfile.open(zipped_file, \"r:gz\")\n",
    "        tar.extractall(path=os.path.dirname(zipped_file))\n",
    "        tar.close()\n",
    "\n",
    "# Usage example\n",
    "folder_path = \"fitsfiles/extracted\"\n",
    "extract_all_tar_gz_files(folder_path)\n"
   ]
  },
  {
   "cell_type": "code",
   "execution_count": 3,
   "id": "1a121bdb",
   "metadata": {},
   "outputs": [],
   "source": [
    "from astropy.io import fits\n",
    "\n",
    "file_path = \"fitsfiles/24433_A_spectrum_3-arcsec_red.fits\"\n",
    "\n",
    "# Open the FITS file\n",
    "hdul = fits.open(file_path)\n",
    "# Access the PRIMARY HDU\n",
    "#primary_hdu = hdul[0]"
   ]
  },
  {
   "cell_type": "code",
   "execution_count": 4,
   "id": "d2a1085c",
   "metadata": {},
   "outputs": [
    {
     "data": {
      "text/plain": [
       "SIMPLE  =                    T                                                  \n",
       "BITPIX  =                  -64 / array data type                                \n",
       "NAXIS   =                    1 / number of array dimensions                     \n",
       "NAXIS1  =                 2048                                                  \n",
       "EXTEND  =                    T                                                  \n",
       "RADIUS  =    2.999999999999976 / Radius of the aperture in spaxels              \n",
       "ELLIP   =                    0 / Ellipticity of the aperture (1-b/a)            \n",
       "POS_ANG =                    0 / Position angle of the major axis, N->E         \n",
       "KPC_SIZE=    3.441081064293633 / Size of 1 kpc at galaxy distance in pixels     \n",
       "Z_TONRY =  0.02899414114654064 / Redshift used to calculate galaxy distance     \n",
       "N_SPAX  =                   32 / Number of spaxels included in mask             \n",
       "WCSAXES =                    1 / Number of coordinate axes                      \n",
       "CRVAL1  =       6849.702002931 / [A] Coordinate value at reference point        \n",
       "CRPIX1  =               1024.0 / Pixel coordinate of reference point            \n",
       "CDELT1  =      0.5959941377626 / [A] Coordinate increment at reference point    \n",
       "CUNIT1  = 'Angstrom'           / Units of coordinate increment and value        \n",
       "CTYPE1  = 'AWAV    '           / Air wavelength (linear)                        \n",
       "BUNIT   = '10**(-16) erg /s /cm**2 /angstrom /pixel' / Units                    \n",
       "STDNAME = '10000722'           / Name of standard star                          \n",
       "IFUPROBE= '3       '           / Id number(s) of the SAMI IFU probe(s)          \n",
       "PSFFWHM =    1.813846987452815 / FWHM of Moffat fit to PSF (arcsec)             \n",
       "PSFALPHA=    1.590649697797378 / Alpha parameter of Moffat fit to PSF           \n",
       "PSFBETA =    2.462562525385452 / Beta parameter of Moffat fit to PSF            \n",
       "DROPFACT=                  0.5 / Drizzle drop scaling                           \n",
       "RO_GAIN =                  2.0 / Readout amplifier (inverse) gain (e-/ADU)      \n",
       "RO_NOISE=                 4.13 / Readout noise (electrons)                      \n",
       "GRATID  = '1000R   '           / Disperser ID                                   \n",
       "NAME    = '24433   '           / Object ID                                      \n",
       "CATARA  =    185.7224583333333 / Catalogue nominal RA_IFU coordinate (deg)      \n",
       "CATADEC =    1.241333333333333 / Catalogue nominal DEC_IFU coordinate (deg)     \n",
       "RADESYS = 'FK5     '           / Equatorial coordinate system                   \n",
       "LONPOLE =                180.0 / [deg] Native longitude of celestial pole       \n",
       "LATPOLE =             1.241333 / [deg] Native latitude of celestial pole        \n",
       "EQUINOX =               2000.0 / [yr] Equinox of equatorial coordinates         \n",
       "ORIGIN  = 'AAO     '           / Originating Institution                        \n",
       "TELESCOP= 'Anglo-Australian Telescope' / Telescope Name                         \n",
       "ALT_OBS =                 1164 / Altitude of observatory in metres              \n",
       "LAT_OBS =            -31.27704 / Observatory latitude in degrees                \n",
       "LONG_OBS=             149.0661 / Observatory longitude in degrees               \n",
       "INSTRUME= 'AAOMEGA-SAMI'       / Instrument in use                              \n",
       "SPECTID = 'RD      '           / Spectrograph ID                                \n",
       "GRATTILT=                  1.2 / Grating tilt to be symmetric (degree)          \n",
       "GRATLPMM=               1001.0 / Disperser ruling (lines/mm)                    \n",
       "ORDER   =                    1 / Spectrum order                                 \n",
       "DICHROIC= 'X5700   '           / Dichroic name                                  \n",
       "TOPEND  = 'PF      '           / Telescope top-end                              \n",
       "AXIS    = 'REF     '           / Current optical axis                           \n",
       "WCS_SRC = 'Nominal '           / WCS Source                                     \n",
       "TOTALEXP=              14400.0 / Total exposure (seconds)                       \n",
       "PLATEID = 'Y14SAR3_P005_12T056_15T080' / Plate ID (from config file)            \n",
       "LABEL   = 'Y14SAR3_P005_12T056 - Run 16 galaxy plate 5 - field 1' / Configuratio\n",
       "CBINGMET= 'Tophat  '           / Method adopted for cubing                      \n",
       "HGCUBING= '' / Hg changeset ID for cubing code                                  \n",
       "HGAPER  = '45ab4219a5e9+'      / Hg changeset ID for aperture code              \n",
       "Z_SPEC  =  0.02779999934136868 / Heliocentric redshift from input catalogue     \n",
       "ORIGFILE= '24433_red_8_Y14SAR3_P005_12T056_2015_01_19-2015_01_26_apspec.fits'   "
      ]
     },
     "execution_count": 4,
     "metadata": {},
     "output_type": "execute_result"
    }
   ],
   "source": [
    "hdul[0].header"
   ]
  },
  {
   "cell_type": "code",
   "execution_count": 5,
   "id": "2d90dffb",
   "metadata": {},
   "outputs": [
    {
     "data": {
      "image/png": "[encoded data removed]",
      "text/plain": [
       "<Figure size 720x432 with 1 Axes>"
      ]
     },
     "metadata": {
      "needs_background": "light"
     },
     "output_type": "display_data"
    }
   ],
   "source": [
    "import matplotlib.pyplot as plt\n",
    "from astropy.io import fits\n",
    "\n",
    "# Define the path to the FITS file\n",
    "file_path = \"fitsfiles/24433_A_spectrum_3-arcsec_red.fits\"\n",
    "\n",
    "# Open the FITS file\n",
    "hdul = fits.open(file_path)\n",
    "\n",
    "# Access the spectral data and header\n",
    "data = hdul[0].data\n",
    "header = hdul[0].header\n",
    "\n",
    "# Extract relevant header information and convert to the appropriate data types\n",
    "wavelength_start = float(header['CRVAL1'])  # Starting wavelength in Angstroms\n",
    "wavelength_step = float(header['CDELT1'])   # Wavelength increment in Angstroms\n",
    "flux_unit = header['BUNIT']                # Units of the flux values\n",
    "\n",
    "# Create an array of wavelengths\n",
    "wavelengths = [wavelength_start + wavelength_step * i for i in range(len(data))]\n",
    "\n",
    "# Plot the spectrum\n",
    "plt.figure(figsize=(10, 6))\n",
    "plt.plot(wavelengths, data, color='red')\n",
    "plt.xlabel('Wavelength (Angstroms)')\n",
    "plt.ylabel(f'Flux ({flux_unit})')\n",
    "plt.title('Spectrum')\n",
    "plt.grid(True)\n",
    "plt.show()\n"
   ]
  },
  {
   "cell_type": "code",
   "execution_count": 6,
   "id": "16f43b14",
   "metadata": {},
   "outputs": [
    {
     "data": {
      "image/png": "[encoded data removed]",
      "text/plain": [
       "<Figure size 720x432 with 1 Axes>"
      ]
     },
     "metadata": {
      "needs_background": "light"
     },
     "output_type": "display_data"
    }
   ],
   "source": [
    "import matplotlib.pyplot as plt\n",
    "from astropy.io import fits\n",
    "from astropy.modeling import models, fitting\n",
    "\n",
    "# Define the path to the FITS file\n",
    "file_path = \"fitsfiles/24433_A_spectrum_3-arcsec_red.fits\"\n",
    "\n",
    "# Open the FITS file\n",
    "hdul = fits.open(file_path)\n",
    "\n",
    "# Access the spectral data and header\n",
    "data = hdul[0].data\n",
    "header = hdul[0].header\n",
    "\n",
    "# Extract relevant header information and convert to the appropriate data types\n",
    "wavelength_start = float(header['CRVAL1'])  # Starting wavelength in Angstroms\n",
    "wavelength_step = float(header['CDELT1'])   # Wavelength increment in Angstroms\n",
    "flux_unit = header['BUNIT']                # Units of the flux values\n",
    "\n",
    "# Create an array of wavelengths\n",
    "wavelengths = [wavelength_start + wavelength_step * i for i in range(len(data))]\n",
    "\n",
    "# Define a model for fitting (e.g., Gaussian)\n",
    "model = models.Gaussian1D(amplitude=1.0, mean=6563.0, stddev=10.0)\n",
    "\n",
    "# Initialize a fitter (e.g., nonlinear least squares)\n",
    "fitter = fitting.LevMarLSQFitter()\n",
    "\n",
    "# Fit the model to the data\n",
    "fitted_model = fitter(model, wavelengths, data)\n",
    "\n",
    "# Plot the spectrum and fitted model\n",
    "plt.figure(figsize=(10, 6))\n",
    "plt.plot(wavelengths, data, color='red', label='Spectrum')\n",
    "plt.plot(wavelengths, fitted_model(wavelengths), color='blue', label='Fitted Model')\n",
    "plt.xlabel('Wavelength (Angstroms)')\n",
    "plt.ylabel(f'Flux ({flux_unit})')\n",
    "plt.title('Spectrum with Fitted Model')\n",
    "plt.legend()\n",
    "plt.grid(True)\n",
    "plt.show()\n"
   ]
  },
  {
   "cell_type": "code",
   "execution_count": 7,
   "id": "d15c28a0",
   "metadata": {},
   "outputs": [
    {
     "ename": "FileNotFoundError",
     "evalue": "[Errno 2] No such file or directory: 'fitsfiles/extracted/sami/dr3/ifs/7289/7289_A_annular_blue.fits'",
     "output_type": "error",
     "traceback": [
      "\u001b[0;31m---------------------------------------------------------------------------\u001b[0m",
      "\u001b[0;31mFileNotFoundError\u001b[0m                         Traceback (most recent call last)",
      "\u001b[0;32m/var/folders/q7/8s9pjyts0d5gm028lxlv95980000gn/T/ipykernel_58738/1212218548.py\u001b[0m in \u001b[0;36m<module>\u001b[0;34m\u001b[0m\n\u001b[1;32m      6\u001b[0m \u001b[0;34m\u001b[0m\u001b[0m\n\u001b[1;32m      7\u001b[0m \u001b[0;31m# Open the FITS file\u001b[0m\u001b[0;34m\u001b[0m\u001b[0;34m\u001b[0m\u001b[0m\n\u001b[0;32m----> 8\u001b[0;31m \u001b[0mhdul\u001b[0m \u001b[0;34m=\u001b[0m \u001b[0mfits\u001b[0m\u001b[0;34m.\u001b[0m\u001b[0mopen\u001b[0m\u001b[0;34m(\u001b[0m\u001b[0mfile_path\u001b[0m\u001b[0;34m)\u001b[0m\u001b[0;34m\u001b[0m\u001b[0;34m\u001b[0m\u001b[0m\n\u001b[0m\u001b[1;32m      9\u001b[0m \u001b[0;34m\u001b[0m\u001b[0m\n\u001b[1;32m     10\u001b[0m \u001b[0;31m# Access the PRIMARY HDU (assuming your data is in the primary HDU)\u001b[0m\u001b[0;34m\u001b[0m\u001b[0;34m\u001b[0m\u001b[0m\n",
      "\u001b[0;32m~/opt/anaconda3/lib/python3.9/site-packages/astropy/io/fits/hdu/hdulist.py\u001b[0m in \u001b[0;36mfitsopen\u001b[0;34m(name, mode, memmap, save_backup, cache, lazy_load_hdus, ignore_missing_simple, **kwargs)\u001b[0m\n\u001b[1;32m    171\u001b[0m         \u001b[0;32mraise\u001b[0m \u001b[0mValueError\u001b[0m\u001b[0;34m(\u001b[0m\u001b[0;34mf'Empty filename: {name!r}'\u001b[0m\u001b[0;34m)\u001b[0m\u001b[0;34m\u001b[0m\u001b[0;34m\u001b[0m\u001b[0m\n\u001b[1;32m    172\u001b[0m \u001b[0;34m\u001b[0m\u001b[0m\n\u001b[0;32m--> 173\u001b[0;31m     return HDUList.fromfile(name, mode, memmap, save_backup, cache,\n\u001b[0m\u001b[1;32m    174\u001b[0m                             lazy_load_hdus, ignore_missing_simple, **kwargs)\n\u001b[1;32m    175\u001b[0m \u001b[0;34m\u001b[0m\u001b[0m\n",
      "\u001b[0;32m~/opt/anaconda3/lib/python3.9/site-packages/astropy/io/fits/hdu/hdulist.py\u001b[0m in \u001b[0;36mfromfile\u001b[0;34m(cls, fileobj, mode, memmap, save_backup, cache, lazy_load_hdus, ignore_missing_simple, **kwargs)\u001b[0m\n\u001b[1;32m    406\u001b[0m         \"\"\"\n\u001b[1;32m    407\u001b[0m \u001b[0;34m\u001b[0m\u001b[0m\n\u001b[0;32m--> 408\u001b[0;31m         return cls._readfrom(fileobj=fileobj, mode=mode, memmap=memmap,\n\u001b[0m\u001b[1;32m    409\u001b[0m                              \u001b[0msave_backup\u001b[0m\u001b[0;34m=\u001b[0m\u001b[0msave_backup\u001b[0m\u001b[0;34m,\u001b[0m \u001b[0mcache\u001b[0m\u001b[0;34m=\u001b[0m\u001b[0mcache\u001b[0m\u001b[0;34m,\u001b[0m\u001b[0;34m\u001b[0m\u001b[0;34m\u001b[0m\u001b[0m\n\u001b[1;32m    410\u001b[0m                              \u001b[0mignore_missing_simple\u001b[0m\u001b[0;34m=\u001b[0m\u001b[0mignore_missing_simple\u001b[0m\u001b[0;34m,\u001b[0m\u001b[0;34m\u001b[0m\u001b[0;34m\u001b[0m\u001b[0m\n",
      "\u001b[0;32m~/opt/anaconda3/lib/python3.9/site-packages/astropy/io/fits/hdu/hdulist.py\u001b[0m in \u001b[0;36m_readfrom\u001b[0;34m(cls, fileobj, data, mode, memmap, cache, lazy_load_hdus, ignore_missing_simple, **kwargs)\u001b[0m\n\u001b[1;32m   1062\u001b[0m             \u001b[0;32mif\u001b[0m \u001b[0;32mnot\u001b[0m \u001b[0misinstance\u001b[0m\u001b[0;34m(\u001b[0m\u001b[0mfileobj\u001b[0m\u001b[0;34m,\u001b[0m \u001b[0m_File\u001b[0m\u001b[0;34m)\u001b[0m\u001b[0;34m:\u001b[0m\u001b[0;34m\u001b[0m\u001b[0;34m\u001b[0m\u001b[0m\n\u001b[1;32m   1063\u001b[0m                 \u001b[0;31m# instantiate a FITS file object (ffo)\u001b[0m\u001b[0;34m\u001b[0m\u001b[0;34m\u001b[0m\u001b[0m\n\u001b[0;32m-> 1064\u001b[0;31m                 \u001b[0mfileobj\u001b[0m \u001b[0;34m=\u001b[0m \u001b[0m_File\u001b[0m\u001b[0;34m(\u001b[0m\u001b[0mfileobj\u001b[0m\u001b[0;34m,\u001b[0m \u001b[0mmode\u001b[0m\u001b[0;34m=\u001b[0m\u001b[0mmode\u001b[0m\u001b[0;34m,\u001b[0m \u001b[0mmemmap\u001b[0m\u001b[0;34m=\u001b[0m\u001b[0mmemmap\u001b[0m\u001b[0;34m,\u001b[0m \u001b[0mcache\u001b[0m\u001b[0;34m=\u001b[0m\u001b[0mcache\u001b[0m\u001b[0;34m)\u001b[0m\u001b[0;34m\u001b[0m\u001b[0;34m\u001b[0m\u001b[0m\n\u001b[0m\u001b[1;32m   1065\u001b[0m             \u001b[0;31m# The Astropy mode is determined by the _File initializer if the\u001b[0m\u001b[0;34m\u001b[0m\u001b[0;34m\u001b[0m\u001b[0m\n\u001b[1;32m   1066\u001b[0m             \u001b[0;31m# supplied mode was None\u001b[0m\u001b[0;34m\u001b[0m\u001b[0;34m\u001b[0m\u001b[0m\n",
      "\u001b[0;32m~/opt/anaconda3/lib/python3.9/site-packages/astropy/utils/decorators.py\u001b[0m in \u001b[0;36mwrapper\u001b[0;34m(*args, **kwargs)\u001b[0m\n\u001b[1;32m    534\u001b[0m                     \u001b[0mwarnings\u001b[0m\u001b[0;34m.\u001b[0m\u001b[0mwarn\u001b[0m\u001b[0;34m(\u001b[0m\u001b[0mmessage\u001b[0m\u001b[0;34m,\u001b[0m \u001b[0mwarning_type\u001b[0m\u001b[0;34m,\u001b[0m \u001b[0mstacklevel\u001b[0m\u001b[0;34m=\u001b[0m\u001b[0;36m2\u001b[0m\u001b[0;34m)\u001b[0m\u001b[0;34m\u001b[0m\u001b[0;34m\u001b[0m\u001b[0m\n\u001b[1;32m    535\u001b[0m \u001b[0;34m\u001b[0m\u001b[0m\n\u001b[0;32m--> 536\u001b[0;31m             \u001b[0;32mreturn\u001b[0m \u001b[0mfunction\u001b[0m\u001b[0;34m(\u001b[0m\u001b[0;34m*\u001b[0m\u001b[0margs\u001b[0m\u001b[0;34m,\u001b[0m \u001b[0;34m**\u001b[0m\u001b[0mkwargs\u001b[0m\u001b[0;34m)\u001b[0m\u001b[0;34m\u001b[0m\u001b[0;34m\u001b[0m\u001b[0m\n\u001b[0m\u001b[1;32m    537\u001b[0m \u001b[0;34m\u001b[0m\u001b[0m\n\u001b[1;32m    538\u001b[0m         \u001b[0;32mreturn\u001b[0m \u001b[0mwrapper\u001b[0m\u001b[0;34m\u001b[0m\u001b[0;34m\u001b[0m\u001b[0m\n",
      "\u001b[0;32m~/opt/anaconda3/lib/python3.9/site-packages/astropy/io/fits/file.py\u001b[0m in \u001b[0;36m__init__\u001b[0;34m(self, fileobj, mode, memmap, overwrite, cache)\u001b[0m\n\u001b[1;32m    168\u001b[0m             \u001b[0mself\u001b[0m\u001b[0;34m.\u001b[0m\u001b[0m_open_fileobj\u001b[0m\u001b[0;34m(\u001b[0m\u001b[0mfileobj\u001b[0m\u001b[0;34m,\u001b[0m \u001b[0mmode\u001b[0m\u001b[0;34m,\u001b[0m \u001b[0moverwrite\u001b[0m\u001b[0;34m)\u001b[0m\u001b[0;34m\u001b[0m\u001b[0;34m\u001b[0m\u001b[0m\n\u001b[1;32m    169\u001b[0m         \u001b[0;32melif\u001b[0m \u001b[0misinstance\u001b[0m\u001b[0;34m(\u001b[0m\u001b[0mfileobj\u001b[0m\u001b[0;34m,\u001b[0m \u001b[0;34m(\u001b[0m\u001b[0mstr\u001b[0m\u001b[0;34m,\u001b[0m \u001b[0mbytes\u001b[0m\u001b[0;34m)\u001b[0m\u001b[0;34m)\u001b[0m\u001b[0;34m:\u001b[0m\u001b[0;34m\u001b[0m\u001b[0;34m\u001b[0m\u001b[0m\n\u001b[0;32m--> 170\u001b[0;31m             \u001b[0mself\u001b[0m\u001b[0;34m.\u001b[0m\u001b[0m_open_filename\u001b[0m\u001b[0;34m(\u001b[0m\u001b[0mfileobj\u001b[0m\u001b[0;34m,\u001b[0m \u001b[0mmode\u001b[0m\u001b[0;34m,\u001b[0m \u001b[0moverwrite\u001b[0m\u001b[0;34m)\u001b[0m\u001b[0;34m\u001b[0m\u001b[0;34m\u001b[0m\u001b[0m\n\u001b[0m\u001b[1;32m    171\u001b[0m         \u001b[0;32melse\u001b[0m\u001b[0;34m:\u001b[0m\u001b[0;34m\u001b[0m\u001b[0;34m\u001b[0m\u001b[0m\n\u001b[1;32m    172\u001b[0m             \u001b[0mself\u001b[0m\u001b[0;34m.\u001b[0m\u001b[0m_open_filelike\u001b[0m\u001b[0;34m(\u001b[0m\u001b[0mfileobj\u001b[0m\u001b[0;34m,\u001b[0m \u001b[0mmode\u001b[0m\u001b[0;34m,\u001b[0m \u001b[0moverwrite\u001b[0m\u001b[0;34m)\u001b[0m\u001b[0;34m\u001b[0m\u001b[0;34m\u001b[0m\u001b[0m\n",
      "\u001b[0;32m~/opt/anaconda3/lib/python3.9/site-packages/astropy/io/fits/file.py\u001b[0m in \u001b[0;36m_open_filename\u001b[0;34m(self, filename, mode, overwrite)\u001b[0m\n\u001b[1;32m    556\u001b[0m \u001b[0;34m\u001b[0m\u001b[0m\n\u001b[1;32m    557\u001b[0m         \u001b[0;32mif\u001b[0m \u001b[0;32mnot\u001b[0m \u001b[0mself\u001b[0m\u001b[0;34m.\u001b[0m\u001b[0m_try_read_compressed\u001b[0m\u001b[0;34m(\u001b[0m\u001b[0mself\u001b[0m\u001b[0;34m.\u001b[0m\u001b[0mname\u001b[0m\u001b[0;34m,\u001b[0m \u001b[0mmagic\u001b[0m\u001b[0;34m,\u001b[0m \u001b[0mmode\u001b[0m\u001b[0;34m,\u001b[0m \u001b[0mext\u001b[0m\u001b[0;34m=\u001b[0m\u001b[0mext\u001b[0m\u001b[0;34m)\u001b[0m\u001b[0;34m:\u001b[0m\u001b[0;34m\u001b[0m\u001b[0;34m\u001b[0m\u001b[0m\n\u001b[0;32m--> 558\u001b[0;31m             \u001b[0mself\u001b[0m\u001b[0;34m.\u001b[0m\u001b[0m_file\u001b[0m \u001b[0;34m=\u001b[0m \u001b[0mfileobj_open\u001b[0m\u001b[0;34m(\u001b[0m\u001b[0mself\u001b[0m\u001b[0;34m.\u001b[0m\u001b[0mname\u001b[0m\u001b[0;34m,\u001b[0m \u001b[0mIO_FITS_MODES\u001b[0m\u001b[0;34m[\u001b[0m\u001b[0mmode\u001b[0m\u001b[0;34m]\u001b[0m\u001b[0;34m)\u001b[0m\u001b[0;34m\u001b[0m\u001b[0;34m\u001b[0m\u001b[0m\n\u001b[0m\u001b[1;32m    559\u001b[0m             \u001b[0mself\u001b[0m\u001b[0;34m.\u001b[0m\u001b[0mclose_on_error\u001b[0m \u001b[0;34m=\u001b[0m \u001b[0;32mTrue\u001b[0m\u001b[0;34m\u001b[0m\u001b[0;34m\u001b[0m\u001b[0m\n\u001b[1;32m    560\u001b[0m \u001b[0;34m\u001b[0m\u001b[0m\n",
      "\u001b[0;32m~/opt/anaconda3/lib/python3.9/site-packages/astropy/io/fits/util.py\u001b[0m in \u001b[0;36mfileobj_open\u001b[0;34m(filename, mode)\u001b[0m\n\u001b[1;32m    388\u001b[0m     \"\"\"\n\u001b[1;32m    389\u001b[0m \u001b[0;34m\u001b[0m\u001b[0m\n\u001b[0;32m--> 390\u001b[0;31m     \u001b[0;32mreturn\u001b[0m \u001b[0mopen\u001b[0m\u001b[0;34m(\u001b[0m\u001b[0mfilename\u001b[0m\u001b[0;34m,\u001b[0m \u001b[0mmode\u001b[0m\u001b[0;34m,\u001b[0m \u001b[0mbuffering\u001b[0m\u001b[0;34m=\u001b[0m\u001b[0;36m0\u001b[0m\u001b[0;34m)\u001b[0m\u001b[0;34m\u001b[0m\u001b[0;34m\u001b[0m\u001b[0m\n\u001b[0m\u001b[1;32m    391\u001b[0m \u001b[0;34m\u001b[0m\u001b[0m\n\u001b[1;32m    392\u001b[0m \u001b[0;34m\u001b[0m\u001b[0m\n",
      "\u001b[0;31mFileNotFoundError\u001b[0m: [Errno 2] No such file or directory: 'fitsfiles/extracted/sami/dr3/ifs/7289/7289_A_annular_blue.fits'"
     ]
    }
   ],
   "source": [
    "import matplotlib.pyplot as plt\n",
    "from astropy.io import fits\n",
    "\n",
    "# Define the path to the FITS file\n",
    "file_path = \"fitsfiles/extracted/sami/dr3/ifs/7289/7289_A_annular_blue.fits\"\n",
    "\n",
    "# Open the FITS file\n",
    "hdul = fits.open(file_path)\n",
    "\n",
    "# Access the PRIMARY HDU (assuming your data is in the primary HDU)\n",
    "primary_hdu = hdul[0]\n",
    "\n",
    "# Access the 3D data array\n",
    "data_3d = primary_hdu.data\n",
    "\n",
    "# Get the shape of the 3D data array\n",
    "shape = data_3d.shape\n",
    "\n",
    "# Create a series of 2D images (spectral slices)\n",
    "for i in range(shape[0]):  # Loop over the spectral dimension\n",
    "    plt.figure(figsize=(6, 6))\n",
    "    plt.imshow(data_3d[i], cmap='viridis')  # You can choose a different colormap\n",
    "    plt.colorbar()\n",
    "    plt.title(f\"Spectral Slice {i}\")\n",
    "    plt.show()\n",
    "    raise ValueError(\"hi\")\n"
   ]
  },
  {
   "cell_type": "code",
   "execution_count": null,
   "id": "750d8bb1",
   "metadata": {},
   "outputs": [],
   "source": []
  }
 ],
 "metadata": {
  "kernelspec": {
   "display_name": "Python 3 (ipykernel)",
   "language": "python",
   "name": "python3"
  },
  "language_info": {
   "codemirror_mode": {
    "name": "ipython",
    "version": 3
   },
   "file_extension": ".py",
   "mimetype": "text/x-python",
   "name": "python",
   "nbconvert_exporter": "python",
   "pygments_lexer": "ipython3",
   "version": "3.9.7"
  }
 },
 "nbformat": 4,
 "nbformat_minor": 5
}
